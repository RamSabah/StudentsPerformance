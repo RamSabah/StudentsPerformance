{
 "cells": [
  {
   "cell_type": "markdown",
   "id": "baking-depth",
   "metadata": {},
   "source": [
    "# Learning Analytics Aufgabe 3"
   ]
  },
  {
   "cell_type": "code",
   "execution_count": 1,
   "id": "advanced-compilation",
   "metadata": {},
   "outputs": [],
   "source": [
    "import pandas as pd\n",
    "import matplotlib.pyplot as plt\n",
    "import numpy as np\n"
   ]
  },
  {
   "cell_type": "raw",
   "id": "binding-shell",
   "metadata": {},
   "source": [
    "# Importing files from GitHub repository"
   ]
  },
  {
   "cell_type": "code",
   "execution_count": 20,
   "id": "asian-voltage",
   "metadata": {},
   "outputs": [],
   "source": [
    "math_performance = pd.read_csv(\"https://raw.githubusercontent.com/RamSabah/max_mask/main/tables/StudentsPerformance.csv\")\n",
    "math_score_nonSuccess_completed = pd.read_csv(\"https://raw.githubusercontent.com/RamSabah/max_mask/main/tables/math_score_nonSuccess_completed.csv\")\n",
    "math_score_nonSuccess_non_completed = pd.read_csv(\"https://raw.githubusercontent.com/RamSabah/max_mask/main/tables/math_score_nonSuccess_non_completed.csv\")\n",
    "math_score_success_completed = pd.read_csv(\"https://raw.githubusercontent.com/RamSabah/max_mask/main/tables/math_score_success_completed.csv\")\n",
    "math_score_sucess_nonComplete = pd.read_csv(\"https://raw.githubusercontent.com/RamSabah/max_mask/main/tables/math_score_sucess_nonComplete.csv\")\n",
    "reading_score_NoneSucess_Completed = pd.read_csv(\"https://raw.githubusercontent.com/RamSabah/max_mask/main/tables/reading_score_NoneSucess_Completed.csv\")\n",
    "reading_score_NoneSucess_noneCompleted = pd.read_csv(\"https://raw.githubusercontent.com/RamSabah/max_mask/main/tables/reading_score_NoneSucess_noneCompleted.csv\")\n",
    "reading_score_sucess_completed = pd.read_csv(\"https://raw.githubusercontent.com/RamSabah/max_mask/main/tables/reading_score_sucess_completed.csv\")\n",
    "reading_score_sucess_noneCompleted = pd.read_csv(\"https://raw.githubusercontent.com/RamSabah/max_mask/main/tables/reading_score_sucess_noneCompleted.csv\")\n",
    "writing_score_noneSucess_NoneCompleted = pd.read_csv(\"https://raw.githubusercontent.com/RamSabah/max_mask/main/tables/writing_score_noneSucess_NoneCompleted.csv\")\n",
    "writing_score_Sucess_Completed = pd.read_csv(\"https://raw.githubusercontent.com/RamSabah/max_mask/main/tables/writing_score_Sucess_Completed.csv\")\n",
    "writing_score_Sucess_NoneCompleted = pd.read_csv(\"https://raw.githubusercontent.com/RamSabah/max_mask/main/tables/writing_score_Sucess_NoneCompleted.csv\")\n",
    "writing_score_noneSucess_completed = pd.read_csv(\"https://raw.githubusercontent.com/RamSabah/max_mask/main/tables/writing_score_noneSucess_completed.csv\")\n",
    "all_success = pd.read_csv(\"https://raw.githubusercontent.com/RamSabah/max_mask/main/tables/all_success.csv\")\n",
    "\n",
    "success_completed_over_80_precent = pd.read_csv(\"https://raw.githubusercontent.com/RamSabah/max_mask/main/tables/success_completed_over_80_precent.csv\")\n",
    "success_completed_over_90_precent = pd.read_csv(\"https://raw.githubusercontent.com/RamSabah/max_mask/main/tables/success_completed_over_90_precent.csv\")\n",
    "success_NoneCompleted_over_80_precent = pd.read_csv(\"https://raw.githubusercontent.com/RamSabah/max_mask/main/tables/success_NoneCompleted_over_80_precent.csv\")\n",
    "success_NoneCompleted_over_90_precent = pd.read_csv(\"https://raw.githubusercontent.com/RamSabah/max_mask/main/tables/success_NoneCompleted_over_90_precent.csv\")\n",
    "\n",
    "reduced_lunch = pd.read_csv(\"https://raw.githubusercontent.com/RamSabah/max_mask/main/tables/success_student_reduced_lunch.csv\")\n",
    "standard_lunch = pd.read_csv(\"https://raw.githubusercontent.com/RamSabah/max_mask/main/tables/success_students_standard_lunch.csv\")\n",
    "\n",
    "\n"
   ]
  },
  {
   "cell_type": "raw",
   "id": "olive-economics",
   "metadata": {},
   "source": [
    "## Apply some test methods"
   ]
  },
  {
   "cell_type": "code",
   "execution_count": 21,
   "id": "respective-courtesy",
   "metadata": {},
   "outputs": [
    {
     "data": {
      "text/html": [
       "<div>\n",
       "<style scoped>\n",
       "    .dataframe tbody tr th:only-of-type {\n",
       "        vertical-align: middle;\n",
       "    }\n",
       "\n",
       "    .dataframe tbody tr th {\n",
       "        vertical-align: top;\n",
       "    }\n",
       "\n",
       "    .dataframe thead th {\n",
       "        text-align: right;\n",
       "    }\n",
       "</style>\n",
       "<table border=\"1\" class=\"dataframe\">\n",
       "  <thead>\n",
       "    <tr style=\"text-align: right;\">\n",
       "      <th></th>\n",
       "      <th>gender</th>\n",
       "      <th>race/ethnicity</th>\n",
       "      <th>parental level of education</th>\n",
       "      <th>lunch</th>\n",
       "      <th>test preparation course</th>\n",
       "      <th>math score</th>\n",
       "      <th>reading score</th>\n",
       "      <th>writing score</th>\n",
       "    </tr>\n",
       "  </thead>\n",
       "  <tbody>\n",
       "    <tr>\n",
       "      <th>0</th>\n",
       "      <td>female</td>\n",
       "      <td>group B</td>\n",
       "      <td>bachelor's degree</td>\n",
       "      <td>standard</td>\n",
       "      <td>none</td>\n",
       "      <td>72</td>\n",
       "      <td>72</td>\n",
       "      <td>74</td>\n",
       "    </tr>\n",
       "    <tr>\n",
       "      <th>1</th>\n",
       "      <td>female</td>\n",
       "      <td>group C</td>\n",
       "      <td>some college</td>\n",
       "      <td>standard</td>\n",
       "      <td>completed</td>\n",
       "      <td>69</td>\n",
       "      <td>90</td>\n",
       "      <td>88</td>\n",
       "    </tr>\n",
       "    <tr>\n",
       "      <th>2</th>\n",
       "      <td>female</td>\n",
       "      <td>group B</td>\n",
       "      <td>master's degree</td>\n",
       "      <td>standard</td>\n",
       "      <td>none</td>\n",
       "      <td>90</td>\n",
       "      <td>95</td>\n",
       "      <td>93</td>\n",
       "    </tr>\n",
       "    <tr>\n",
       "      <th>3</th>\n",
       "      <td>male</td>\n",
       "      <td>group A</td>\n",
       "      <td>associate's degree</td>\n",
       "      <td>free/reduced</td>\n",
       "      <td>none</td>\n",
       "      <td>47</td>\n",
       "      <td>57</td>\n",
       "      <td>44</td>\n",
       "    </tr>\n",
       "    <tr>\n",
       "      <th>4</th>\n",
       "      <td>male</td>\n",
       "      <td>group C</td>\n",
       "      <td>some college</td>\n",
       "      <td>standard</td>\n",
       "      <td>none</td>\n",
       "      <td>76</td>\n",
       "      <td>78</td>\n",
       "      <td>75</td>\n",
       "    </tr>\n",
       "  </tbody>\n",
       "</table>\n",
       "</div>"
      ],
      "text/plain": [
       "   gender race/ethnicity parental level of education         lunch  \\\n",
       "0  female        group B           bachelor's degree      standard   \n",
       "1  female        group C                some college      standard   \n",
       "2  female        group B             master's degree      standard   \n",
       "3    male        group A          associate's degree  free/reduced   \n",
       "4    male        group C                some college      standard   \n",
       "\n",
       "  test preparation course  math score  reading score  writing score  \n",
       "0                    none          72             72             74  \n",
       "1               completed          69             90             88  \n",
       "2                    none          90             95             93  \n",
       "3                    none          47             57             44  \n",
       "4                    none          76             78             75  "
      ]
     },
     "execution_count": 21,
     "metadata": {},
     "output_type": "execute_result"
    }
   ],
   "source": [
    "math_performance\n",
    "x = math_performance['test preparation course']\n",
    "y = math_performance['math score']\n",
    "math_performance.head()\n"
   ]
  },
  {
   "cell_type": "code",
   "execution_count": 22,
   "id": "scenic-liberty",
   "metadata": {},
   "outputs": [
    {
     "name": "stdout",
     "output_type": "stream",
     "text": [
      "Average notes of Student with None Cores preparation:  64.0778816199377 of 100%\n",
      "Average notes of Student with Cores Preparations:  69.69553072625699 of 100%\n"
     ]
    }
   ],
   "source": [
    "arr = math_performance[['test preparation course','math score']].to_numpy()\n",
    "arr[1][1]\n",
    "non = []\n",
    "completed = []\n",
    "for i in range(0,len(arr)):\n",
    "    if(arr[i][0] == 'none'):\n",
    "        non.append(arr[i][1])\n",
    "    if(arr[i][0] == 'completed'):\n",
    "        completed.append(arr[i][1])\n",
    "\n",
    "non_avreg = sum(non)/len(non)\n",
    "completed_average = sum(completed)/len(completed)\n",
    "print(\"Average notes of Student with None Cores preparation: \", non_avreg, \"of 100%\")\n",
    "print(\"Average notes of Student with Cores Preparations: \",completed_average, \"of 100%\")\n"
   ]
  },
  {
   "cell_type": "raw",
   "id": "grave-receptor",
   "metadata": {},
   "source": [
    "## Desplay the entire Document for further modification"
   ]
  },
  {
   "cell_type": "code",
   "execution_count": 23,
   "id": "artistic-catering",
   "metadata": {},
   "outputs": [
    {
     "data": {
      "text/html": [
       "<div>\n",
       "<style scoped>\n",
       "    .dataframe tbody tr th:only-of-type {\n",
       "        vertical-align: middle;\n",
       "    }\n",
       "\n",
       "    .dataframe tbody tr th {\n",
       "        vertical-align: top;\n",
       "    }\n",
       "\n",
       "    .dataframe thead th {\n",
       "        text-align: right;\n",
       "    }\n",
       "</style>\n",
       "<table border=\"1\" class=\"dataframe\">\n",
       "  <thead>\n",
       "    <tr style=\"text-align: right;\">\n",
       "      <th></th>\n",
       "      <th>gender</th>\n",
       "      <th>race/ethnicity</th>\n",
       "      <th>parental level of education</th>\n",
       "      <th>lunch</th>\n",
       "      <th>test preparation course</th>\n",
       "      <th>math score</th>\n",
       "      <th>reading score</th>\n",
       "      <th>writing score</th>\n",
       "    </tr>\n",
       "  </thead>\n",
       "  <tbody>\n",
       "    <tr>\n",
       "      <th>0</th>\n",
       "      <td>female</td>\n",
       "      <td>group B</td>\n",
       "      <td>bachelor's degree</td>\n",
       "      <td>standard</td>\n",
       "      <td>none</td>\n",
       "      <td>72</td>\n",
       "      <td>72</td>\n",
       "      <td>74</td>\n",
       "    </tr>\n",
       "    <tr>\n",
       "      <th>1</th>\n",
       "      <td>female</td>\n",
       "      <td>group C</td>\n",
       "      <td>some college</td>\n",
       "      <td>standard</td>\n",
       "      <td>completed</td>\n",
       "      <td>69</td>\n",
       "      <td>90</td>\n",
       "      <td>88</td>\n",
       "    </tr>\n",
       "    <tr>\n",
       "      <th>2</th>\n",
       "      <td>female</td>\n",
       "      <td>group B</td>\n",
       "      <td>master's degree</td>\n",
       "      <td>standard</td>\n",
       "      <td>none</td>\n",
       "      <td>90</td>\n",
       "      <td>95</td>\n",
       "      <td>93</td>\n",
       "    </tr>\n",
       "    <tr>\n",
       "      <th>3</th>\n",
       "      <td>male</td>\n",
       "      <td>group A</td>\n",
       "      <td>associate's degree</td>\n",
       "      <td>free/reduced</td>\n",
       "      <td>none</td>\n",
       "      <td>47</td>\n",
       "      <td>57</td>\n",
       "      <td>44</td>\n",
       "    </tr>\n",
       "    <tr>\n",
       "      <th>4</th>\n",
       "      <td>male</td>\n",
       "      <td>group C</td>\n",
       "      <td>some college</td>\n",
       "      <td>standard</td>\n",
       "      <td>none</td>\n",
       "      <td>76</td>\n",
       "      <td>78</td>\n",
       "      <td>75</td>\n",
       "    </tr>\n",
       "    <tr>\n",
       "      <th>...</th>\n",
       "      <td>...</td>\n",
       "      <td>...</td>\n",
       "      <td>...</td>\n",
       "      <td>...</td>\n",
       "      <td>...</td>\n",
       "      <td>...</td>\n",
       "      <td>...</td>\n",
       "      <td>...</td>\n",
       "    </tr>\n",
       "    <tr>\n",
       "      <th>995</th>\n",
       "      <td>female</td>\n",
       "      <td>group E</td>\n",
       "      <td>master's degree</td>\n",
       "      <td>standard</td>\n",
       "      <td>completed</td>\n",
       "      <td>88</td>\n",
       "      <td>99</td>\n",
       "      <td>95</td>\n",
       "    </tr>\n",
       "    <tr>\n",
       "      <th>996</th>\n",
       "      <td>male</td>\n",
       "      <td>group C</td>\n",
       "      <td>high school</td>\n",
       "      <td>free/reduced</td>\n",
       "      <td>none</td>\n",
       "      <td>62</td>\n",
       "      <td>55</td>\n",
       "      <td>55</td>\n",
       "    </tr>\n",
       "    <tr>\n",
       "      <th>997</th>\n",
       "      <td>female</td>\n",
       "      <td>group C</td>\n",
       "      <td>high school</td>\n",
       "      <td>free/reduced</td>\n",
       "      <td>completed</td>\n",
       "      <td>59</td>\n",
       "      <td>71</td>\n",
       "      <td>65</td>\n",
       "    </tr>\n",
       "    <tr>\n",
       "      <th>998</th>\n",
       "      <td>female</td>\n",
       "      <td>group D</td>\n",
       "      <td>some college</td>\n",
       "      <td>standard</td>\n",
       "      <td>completed</td>\n",
       "      <td>68</td>\n",
       "      <td>78</td>\n",
       "      <td>77</td>\n",
       "    </tr>\n",
       "    <tr>\n",
       "      <th>999</th>\n",
       "      <td>female</td>\n",
       "      <td>group D</td>\n",
       "      <td>some college</td>\n",
       "      <td>free/reduced</td>\n",
       "      <td>none</td>\n",
       "      <td>77</td>\n",
       "      <td>86</td>\n",
       "      <td>86</td>\n",
       "    </tr>\n",
       "  </tbody>\n",
       "</table>\n",
       "<p>1000 rows × 8 columns</p>\n",
       "</div>"
      ],
      "text/plain": [
       "     gender race/ethnicity parental level of education         lunch  \\\n",
       "0    female        group B           bachelor's degree      standard   \n",
       "1    female        group C                some college      standard   \n",
       "2    female        group B             master's degree      standard   \n",
       "3      male        group A          associate's degree  free/reduced   \n",
       "4      male        group C                some college      standard   \n",
       "..      ...            ...                         ...           ...   \n",
       "995  female        group E             master's degree      standard   \n",
       "996    male        group C                 high school  free/reduced   \n",
       "997  female        group C                 high school  free/reduced   \n",
       "998  female        group D                some college      standard   \n",
       "999  female        group D                some college  free/reduced   \n",
       "\n",
       "    test preparation course  math score  reading score  writing score  \n",
       "0                      none          72             72             74  \n",
       "1                 completed          69             90             88  \n",
       "2                      none          90             95             93  \n",
       "3                      none          47             57             44  \n",
       "4                      none          76             78             75  \n",
       "..                      ...         ...            ...            ...  \n",
       "995               completed          88             99             95  \n",
       "996                    none          62             55             55  \n",
       "997               completed          59             71             65  \n",
       "998               completed          68             78             77  \n",
       "999                    none          77             86             86  \n",
       "\n",
       "[1000 rows x 8 columns]"
      ]
     },
     "execution_count": 23,
     "metadata": {},
     "output_type": "execute_result"
    }
   ],
   "source": [
    "math_performance"
   ]
  },
  {
   "cell_type": "code",
   "execution_count": 24,
   "id": "acting-container",
   "metadata": {},
   "outputs": [
    {
     "data": {
      "text/html": [
       "<div>\n",
       "<style scoped>\n",
       "    .dataframe tbody tr th:only-of-type {\n",
       "        vertical-align: middle;\n",
       "    }\n",
       "\n",
       "    .dataframe tbody tr th {\n",
       "        vertical-align: top;\n",
       "    }\n",
       "\n",
       "    .dataframe thead th {\n",
       "        text-align: right;\n",
       "    }\n",
       "</style>\n",
       "<table border=\"1\" class=\"dataframe\">\n",
       "  <thead>\n",
       "    <tr style=\"text-align: right;\">\n",
       "      <th></th>\n",
       "      <th>math score</th>\n",
       "      <th>reading score</th>\n",
       "      <th>writing score</th>\n",
       "    </tr>\n",
       "  </thead>\n",
       "  <tbody>\n",
       "    <tr>\n",
       "      <th>count</th>\n",
       "      <td>1000.00000</td>\n",
       "      <td>1000.000000</td>\n",
       "      <td>1000.000000</td>\n",
       "    </tr>\n",
       "    <tr>\n",
       "      <th>mean</th>\n",
       "      <td>66.08900</td>\n",
       "      <td>69.169000</td>\n",
       "      <td>68.054000</td>\n",
       "    </tr>\n",
       "    <tr>\n",
       "      <th>std</th>\n",
       "      <td>15.16308</td>\n",
       "      <td>14.600192</td>\n",
       "      <td>15.195657</td>\n",
       "    </tr>\n",
       "    <tr>\n",
       "      <th>min</th>\n",
       "      <td>0.00000</td>\n",
       "      <td>17.000000</td>\n",
       "      <td>10.000000</td>\n",
       "    </tr>\n",
       "    <tr>\n",
       "      <th>25%</th>\n",
       "      <td>57.00000</td>\n",
       "      <td>59.000000</td>\n",
       "      <td>57.750000</td>\n",
       "    </tr>\n",
       "    <tr>\n",
       "      <th>50%</th>\n",
       "      <td>66.00000</td>\n",
       "      <td>70.000000</td>\n",
       "      <td>69.000000</td>\n",
       "    </tr>\n",
       "    <tr>\n",
       "      <th>75%</th>\n",
       "      <td>77.00000</td>\n",
       "      <td>79.000000</td>\n",
       "      <td>79.000000</td>\n",
       "    </tr>\n",
       "    <tr>\n",
       "      <th>max</th>\n",
       "      <td>100.00000</td>\n",
       "      <td>100.000000</td>\n",
       "      <td>100.000000</td>\n",
       "    </tr>\n",
       "  </tbody>\n",
       "</table>\n",
       "</div>"
      ],
      "text/plain": [
       "       math score  reading score  writing score\n",
       "count  1000.00000    1000.000000    1000.000000\n",
       "mean     66.08900      69.169000      68.054000\n",
       "std      15.16308      14.600192      15.195657\n",
       "min       0.00000      17.000000      10.000000\n",
       "25%      57.00000      59.000000      57.750000\n",
       "50%      66.00000      70.000000      69.000000\n",
       "75%      77.00000      79.000000      79.000000\n",
       "max     100.00000     100.000000     100.000000"
      ]
     },
     "execution_count": 24,
     "metadata": {},
     "output_type": "execute_result"
    }
   ],
   "source": [
    "math_performance.describe()"
   ]
  },
  {
   "cell_type": "raw",
   "id": "micro-democrat",
   "metadata": {},
   "source": [
    "## Comparison of the in the tests succeeded students who took the preparation course and those who did not took the preparation course.\n"
   ]
  },
  {
   "cell_type": "code",
   "execution_count": 8,
   "id": "functional-penalty",
   "metadata": {},
   "outputs": [
    {
     "data": {
      "image/png": "[encoded data removed]",
      "text/plain": [
       "<Figure size 1440x216 with 3 Axes>"
      ]
     },
     "metadata": {
      "needs_background": "light"
     },
     "output_type": "display_data"
    }
   ],
   "source": [
    "names_1 = ['Course completed','Course not Completed']\n",
    "with__ = 342 / 910\n",
    "without__ = 568/910\n",
    "values_1 = [np.true_divide(331,358) * 100,np.true_divide(562,642) *100]\n",
    "values_2 = [np.true_divide(333,358) * 100,np.true_divide(539,642) *100]\n",
    "values_3 = [np.true_divide(326,358) * 100,np.true_divide(533,642) *100]\n",
    "colors = ('#3e84e6','#f09f2e')\n",
    "\n",
    "plt.figure(figsize=(20, 3))\n",
    "plt.subplot(132)\n",
    "plt.bar(names_1,values_1,color=colors)\n",
    "plt.title('Reading Test')\n",
    "plt.text(-0.15,50,''+ str(round(np.true_divide(331,358) * 100,1)) + '%',fontsize=18,color='white')\n",
    "plt.text(0.85,50,''+ str(round(np.true_divide(562,642) *100,1)) + '%',fontsize=18,color='white')\n",
    "plt.subplot(133)\n",
    "plt.bar(names_1,values_2,color=colors)\n",
    "plt.title('Writing Test')\n",
    "plt.text(-0.1,50,''+ str(int(np.true_divide(333,358) * 100)) + '%',fontsize=18,color='white')\n",
    "plt.text(0.9,50,''+ str(int(np.true_divide(539,642) *100)) + '%',fontsize=18,color='white')\n",
    "plt.subplot(131)\n",
    "plt.bar(names_1,values_3,color=colors)\n",
    "plt.title('Math Test')\n",
    "plt.text(-0.1,50,''+ str(int(np.true_divide(326,358) * 100)) + '%',fontsize=18,color='white')\n",
    "plt.text(0.9,50,''+ str(int(np.true_divide(533,642) *100)) + '%',fontsize=18,color='white')\n",
    "plt.show()\n"
   ]
  },
  {
   "cell_type": "code",
   "execution_count": 27,
   "id": "impressed-excerpt",
   "metadata": {},
   "outputs": [],
   "source": [
    "##Student how have success all subjcts (green) and those who at least faild in one (orange)"
   ]
  },
  {
   "cell_type": "code",
   "execution_count": 9,
   "id": "transsexual-corporation",
   "metadata": {},
   "outputs": [
    {
     "data": {
      "image/png": "[encoded data removed]",
      "text/plain": [
       "<Figure size 432x288 with 1 Axes>"
      ]
     },
     "metadata": {},
     "output_type": "display_data"
    }
   ],
   "source": [
    "count = len(all_success)\n",
    "\n",
    "slices = [count,1000 - count]\n",
    "labels = ['Success Students ' + str(count),'Non Success Students ' + str(1000 - count) ]\n",
    "colors = [ '#47B39c','#FFC154']\n",
    "plt.pie(slices, labels=labels,colors=colors,startangle=90,explode=[0,0.04],wedgeprops={'edgecolor': 'white'})\n",
    "plt.title('Succeses Student in all Subject')\n",
    "plt.show()"
   ]
  },
  {
   "cell_type": "code",
   "execution_count": 29,
   "id": "silent-equality",
   "metadata": {},
   "outputs": [],
   "source": [
    "## Students who passed the math test and scored up 80 and up 90 "
   ]
  },
  {
   "cell_type": "code",
   "execution_count": 10,
   "id": "radio-bahrain",
   "metadata": {},
   "outputs": [
    {
     "data": {
      "image/png": "[encoded data removed]",
      "text/plain": [
       "<Figure size 432x288 with 1 Axes>"
      ]
     },
     "metadata": {},
     "output_type": "display_data"
    }
   ],
   "source": [
    "count = len(all_success)\n",
    "\n",
    "slices = [8.9385,15.6424,75.4191]\n",
    "labels = ['up 90','up 80','']\n",
    "colors = [ '#87CA79','#52ADBF','#B5B5B5']\n",
    "plt.title(\"Student that attemp the preparation in Math\")\n",
    "plt.pie(slices, labels=labels,colors=colors,startangle=110,autopct='%1.1f%%',wedgeprops={'edgecolor': 'white'})\n",
    "plt.show()"
   ]
  },
  {
   "cell_type": "code",
   "execution_count": 30,
   "id": "southeast-interference",
   "metadata": {},
   "outputs": [],
   "source": [
    "## Students who passed the math test and scored up 80 and 90 "
   ]
  },
  {
   "cell_type": "code",
   "execution_count": 11,
   "id": "included-exhaust",
   "metadata": {},
   "outputs": [
    {
     "data": {
      "image/png": "[encoded data removed]",
      "text/plain": [
       "<Figure size 432x288 with 1 Axes>"
      ]
     },
     "metadata": {},
     "output_type": "display_data"
    }
   ],
   "source": [
    "count = len(all_success)\n",
    "\n",
    "slices = [11.17318,23.1843,65.64252]\n",
    "labels = ['up 90','up 80','']\n",
    "colors = [ '#87CA79','#52ADBF','#B5B5B5']\n",
    "plt.title(\"Student that attemp the preparation in Writing\")\n",
    "plt.pie(slices, labels=labels,colors=colors,startangle=90,autopct='%1.1f%%',wedgeprops={'edgecolor': 'white'})\n",
    "\n",
    "plt.show()"
   ]
  },
  {
   "cell_type": "code",
   "execution_count": 31,
   "id": "ahead-average",
   "metadata": {},
   "outputs": [],
   "source": [
    "## Students who passed the Reading test and scored up 80 and 90 "
   ]
  },
  {
   "cell_type": "code",
   "execution_count": 12,
   "id": "extreme-enhancement",
   "metadata": {},
   "outputs": [
    {
     "data": {
      "image/png": "[encoded data removed]",
      "text/plain": [
       "<Figure size 432x288 with 1 Axes>"
      ]
     },
     "metadata": {},
     "output_type": "display_data"
    }
   ],
   "source": [
    "count = len(all_success)\n",
    "\n",
    "slices = [8.93845,24.30167,66.75979]\n",
    "labels = ['up 90','up 80','']\n",
    "colors = [ '#87CA79','#52ADBF','#B5B5B5']\n",
    "plt.title(\"Student that attemp the preparation in Reading\")\n",
    "plt.pie(slices, labels=labels,colors=colors,startangle=90,autopct='%1.1f%%',wedgeprops={'edgecolor': 'white'})\n",
    "plt.show()"
   ]
  },
  {
   "cell_type": "code",
   "execution_count": 32,
   "id": "future-payment",
   "metadata": {},
   "outputs": [],
   "source": [
    "## Students who passed the math test and scored up 80 and 90 "
   ]
  },
  {
   "cell_type": "code",
   "execution_count": 17,
   "id": "enhanced-richmond",
   "metadata": {},
   "outputs": [
    {
     "data": {
      "image/png": "[encoded data removed]",
      "text/plain": [
       "<Figure size 432x288 with 1 Axes>"
      ]
     },
     "metadata": {},
     "output_type": "display_data"
    }
   ],
   "source": [
    "count = len(all_success)\n",
    "\n",
    "slices = [4.049844,13.39563,82.554526]\n",
    "labels = ['up 90','up 80','']\n",
    "colors = [ '#f09f2e','#52ADBF','#bdaaf0']\n",
    "plt.title(\"Student that did not attemp the preparation in Math\")\n",
    "plt.pie(slices, labels=labels,colors=colors,startangle=90,autopct='%1.1f%%',wedgeprops={'edgecolor': 'white'})\n",
    "plt.show()"
   ]
  },
  {
   "cell_type": "code",
   "execution_count": 34,
   "id": "bacterial-occasions",
   "metadata": {},
   "outputs": [],
   "source": [
    "## Students who passed the Writing test and scored up 80 and 90 "
   ]
  },
  {
   "cell_type": "code",
   "execution_count": 18,
   "id": "front-shopper",
   "metadata": {},
   "outputs": [
    {
     "data": {
      "image/png": "[encoded data removed]",
      "text/plain": [
       "<Figure size 432x288 with 1 Axes>"
      ]
     },
     "metadata": {},
     "output_type": "display_data"
    }
   ],
   "source": [
    "count = len(all_success)\n",
    "\n",
    "slices = [3.73831,11.5264,84.73529]\n",
    "labels = ['up 90','up 80','']\n",
    "colors = [ '#f09f2e','#52ADBF','#bdaaf0']\n",
    "plt.title(\"Student that did not attemp the preparation in Writing\")\n",
    "plt.pie(slices, labels=labels,colors=colors,startangle=90,autopct='%1.1f%%',wedgeprops={'edgecolor': 'white'})\n",
    "plt.show()"
   ]
  },
  {
   "cell_type": "code",
   "execution_count": 35,
   "id": "chinese-survivor",
   "metadata": {},
   "outputs": [],
   "source": [
    "## Students who passed the reading test and scored up 80 and 90 "
   ]
  },
  {
   "cell_type": "code",
   "execution_count": 37,
   "id": "armed-namibia",
   "metadata": {},
   "outputs": [
    {
     "data": {
      "image/png": "[encoded data removed]",
      "text/plain": [
       "<Figure size 432x288 with 1 Axes>"
      ]
     },
     "metadata": {},
     "output_type": "display_data"
    }
   ],
   "source": [
    "count = len(all_success)\n",
    "\n",
    "slices = [4.67289,12.92834,82.39877]\n",
    "labels = ['up 90','up 80','']\n",
    "colors = [ '#f09f2e','#52ADBF','#bdaaf0']\n",
    "plt.title(\"Student that did not attemp the preparation in Reading\")\n",
    "plt.pie(slices, labels=labels,colors=colors,startangle=110,autopct='%1.1f%%',wedgeprops={'edgecolor': 'white'})\n",
    "plt.show()"
   ]
  },
  {
   "cell_type": "code",
   "execution_count": null,
   "id": "affiliated-butter",
   "metadata": {},
   "outputs": [],
   "source": []
  },
  {
   "cell_type": "raw",
   "id": "failing-variation",
   "metadata": {},
   "source": [
    "# Selection statment for table sorting:\n",
    "\n",
    "select * from StudentsPerformance A where  A.'test preparation course' = 'none' and A.'writing score' >= 90\n",
    "select * from StudentsPerformance A where  A.'test preparation course' = 'none' and A.'reading score' >= 90\n",
    "select * from StudentsPerformance A where  A.'test preparation course' = 'none' and A.'math score' >= 90\n",
    "\n",
    "select * from StudentsPerformance A where  A.'test preparation course' = 'completed' and A.'writing score' >= 90\n",
    "select * from StudentsPerformance A where  A.'test preparation course' = 'completed' and A.'reading score' >= 90\n",
    "select * from StudentsPerformance A where  A.'test preparation course' = 'completed' and A.'math score' >= 90\n",
    "\n",
    "select * from StudentsPerformance A where  A.'test preparation course' = 'completed' and A.'math score' BETWEEN 80 AND 89\n",
    "select * from StudentsPerformance A where  A.'test preparation course' = 'completed' and A.'reading score' BETWEEN 80 AND 89\n",
    "select * from StudentsPerformance A where  A.'test preparation course' = 'completed' and A.'writing score' BETWEEN 80 AND 89\n",
    "\n",
    "\n",
    "select * from StudentsPerformance A where  A.'test preparation course' = 'none' and A.'math score' BETWEEN 80 AND 89\n",
    "select * from StudentsPerformance A where  A.'test preparation course' = 'none' and A.'reading score' BETWEEN 80 AND 89\n",
    "select * from StudentsPerformance A where  A.'test preparation course' = 'none' and A.'writing score' BETWEEN 80 AND 89\n",
    "\n",
    "*You can add COUNT(*) insted of * to get the Count\n",
    "\n",
    "\n",
    "\n",
    "SELECT * FROM StudentsPerformance A WHERE A.'math score' >= 50 and A.'test preparation course' = 'completed'\n",
    "SELECT * FROM StudentsPerformance A WHERE A.'math score' >= 50 and A.'test preparation course' = 'none'\n",
    "SELECT * FROM StudentsPerformance A WHERE A.'reading score' >= 50 and A.'test preparation course' = 'completed'\n",
    "SELECT * FROM StudentsPerformance A WHERE A.'reading score' >= 50 and A.'test preparation course' = 'none'\n",
    "SELECT * FROM StudentsPerformance A WHERE A.'writing score' >= 50 and A.'test preparation course' = 'completed'\n",
    "SELECT * FROM StudentsPerformance A WHERE A.'writing score' >= 50 and A.'test preparation course' = 'none'\n",
    "\n",
    "SELECT * FROM StudentsPerformance A WHERE A.'math score' >= 50\n",
    "SELECT * FROM StudentsPerformance A WHERE A.'reading score' >= 50\n",
    "SELECT * FROM StudentsPerformance A WHERE A.'writing score' >= 50\n",
    "\n",
    "\n"
   ]
  }
 ],
 "metadata": {
  "kernelspec": {
   "display_name": "Python 3",
   "language": "python",
   "name": "python3"
  },
  "language_info": {
   "codemirror_mode": {
    "name": "ipython",
    "version": 3
   },
   "file_extension": ".py",
   "mimetype": "text/x-python",
   "name": "python",
   "nbconvert_exporter": "python",
   "pygments_lexer": "ipython3",
   "version": "3.8.7"
  }
 },
 "nbformat": 4,
 "nbformat_minor": 5
}
